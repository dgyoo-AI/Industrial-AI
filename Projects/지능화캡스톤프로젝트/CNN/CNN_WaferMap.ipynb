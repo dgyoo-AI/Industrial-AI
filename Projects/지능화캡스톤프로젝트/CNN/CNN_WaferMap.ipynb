{
 "cells": [
  {
   "cell_type": "code",
   "execution_count": 1,
   "metadata": {},
   "outputs": [],
   "source": [
    "import os\n",
    "import PIL\n",
    "import numpy as np\n",
    "import tensorflow as tf\n",
    "from tensorflow import keras\n",
    "from tensorflow.keras import layers\n",
    "from tensorflow.keras.preprocessing import image"
   ]
  },
  {
   "cell_type": "code",
   "execution_count": 2,
   "metadata": {},
   "outputs": [],
   "source": [
    "train_folder = \"./data/waferimages/training\"\n",
    "test_folder = \"./data/waferimages/testing\"\n",
    "temp_folder = \"./data/waferimages/temp\"\n",
    "\n",
    "batch_size = 100\n",
    "img_height = 26\n",
    "img_width = 26\n",
    "\n",
    "num_classes = 8"
   ]
  },
  {
   "cell_type": "code",
   "execution_count": 4,
   "metadata": {
    "scrolled": true
   },
   "outputs": [],
   "source": [
    "import pathlib\n",
    "\n",
    "input_path = pathlib.Path(train_folder)\n",
    "input_count = len(list(input_path.glob('*/*.png')))\n",
    "\n",
    "class_labels = np.array(sorted([item.name for item in input_path.glob('*')]))\n",
    "\n",
    "center_path = list(input_path.glob(class_labels[0]+'/*')) \n",
    "center_count = len(list(center_path))\n",
    "donut_path = list(input_path.glob(class_labels[1]+'/*'))\n",
    "donut_count = len(list(donut_path))\n",
    "edgeLoc_path = list(input_path.glob(class_labels[2]+'/*'))\n",
    "edgeLoc_count = len(list(edgeLoc_path))\n",
    "edgeRing_path = list(input_path.glob(class_labels[3]+'/*'))\n",
    "edgeRing_count = len(list(edgeRing_path))\n",
    "loc_path = list(input_path.glob(class_labels[4]+'/*'))\n",
    "loc_count = len(list(loc_path))\n",
    "nearFull_path = list(input_path.glob(class_labels[5]+'/*'))\n",
    "nearFull_count = len(list(nearFull_path))\n",
    "random_path = list(input_path.glob(class_labels[6]+'/*'))\n",
    "random_count = len(list(random_path))\n",
    "scratch_path = list(input_path.glob(class_labels[7]+'/*'))\n",
    "scratch_count = len(list(scratch_path))\n",
    "#none_path = list(input_path.glob(class_labels[8]+'/*'))\n",
    "#none_count = len(list(none_path))\n",
    "\n",
    "#print(input_path)\n",
    "#print(input_count)\n",
    "#print(center_path[0])\n",
    "#print(center_count)\n",
    "#print(donut_path[0])\n",
    "#print(donut_count)\n",
    "#print(edgeLoc_path[0])\n",
    "#print(edgeLoc_count)\n",
    "#print(edgeRing_path[0])\n",
    "#print(edgeRing_count)\n",
    "#print(loc_path[0])\n",
    "#print(loc_count)\n",
    "#print(nearFull_path[0])\n",
    "#print(nearFull_count)\n",
    "#print(none_path[0])\n",
    "#print(none_count)\n",
    "#print(random_path[0])\n",
    "#print(random_count)\n",
    "#print(scratch_path[0])\n",
    "#print(scratch_count)"
   ]
  },
  {
   "cell_type": "code",
   "execution_count": 5,
   "metadata": {},
   "outputs": [
    {
     "name": "stdout",
     "output_type": "stream",
     "text": [
      "data\\waferimages\\temp\n",
      "0\n"
     ]
    }
   ],
   "source": [
    "temp_path = pathlib.Path(temp_folder)\n",
    "temp_count = len(list(temp_path.glob('*/*.png')))\n",
    "\n",
    "print(temp_path)\n",
    "print(temp_count)"
   ]
  },
  {
   "cell_type": "code",
   "execution_count": 6,
   "metadata": {},
   "outputs": [
    {
     "name": "stdout",
     "output_type": "stream",
     "text": [
      "Found 80000 files belonging to 8 classes.\n",
      "Using 64000 files for training.\n"
     ]
    }
   ],
   "source": [
    "train_ds = tf.keras.preprocessing.image_dataset_from_directory(\n",
    "  train_folder,\n",
    "  validation_split=0.2,\n",
    "  subset=\"training\",\n",
    "  seed=1024,\n",
    "  image_size=(img_height, img_width),\n",
    "  batch_size=batch_size)"
   ]
  },
  {
   "cell_type": "code",
   "execution_count": 7,
   "metadata": {},
   "outputs": [
    {
     "name": "stdout",
     "output_type": "stream",
     "text": [
      "Found 80000 files belonging to 8 classes.\n",
      "Using 16000 files for validation.\n"
     ]
    }
   ],
   "source": [
    "val_ds = tf.keras.preprocessing.image_dataset_from_directory(\n",
    "  train_folder,\n",
    "  validation_split=0.2,\n",
    "  subset=\"validation\",\n",
    "  seed=1024,\n",
    "  image_size=(img_height, img_width),\n",
    "  batch_size=batch_size)"
   ]
  },
  {
   "cell_type": "code",
   "execution_count": 8,
   "metadata": {},
   "outputs": [
    {
     "name": "stdout",
     "output_type": "stream",
     "text": [
      "Found 7894 files belonging to 8 classes.\n"
     ]
    }
   ],
   "source": [
    "test_ds = tf.keras.preprocessing.image_dataset_from_directory(\n",
    "  test_folder,\n",
    "  seed=1024,\n",
    "  image_size=(img_height, img_width),\n",
    "  batch_size=batch_size)"
   ]
  },
  {
   "cell_type": "code",
   "execution_count": 10,
   "metadata": {},
   "outputs": [],
   "source": [
    "#temp_ds = tf.keras.preprocessing.image_dataset_from_directory(\n",
    "#  temp_folder,\n",
    "#  seed=1024,\n",
    "#  image_size=(img_height, img_width),\n",
    "#  batch_size=batch_size)\n",
    "#print(tf.data.experimental.cardinality(temp_ds).numpy())"
   ]
  },
  {
   "cell_type": "code",
   "execution_count": 11,
   "metadata": {},
   "outputs": [
    {
     "data": {
      "text/plain": [
       "['Center',\n",
       " 'Donut',\n",
       " 'Edge-Loc',\n",
       " 'Edge-Ring',\n",
       " 'Loc',\n",
       " 'Near-full',\n",
       " 'Random',\n",
       " 'Scratch']"
      ]
     },
     "execution_count": 11,
     "metadata": {},
     "output_type": "execute_result"
    }
   ],
   "source": [
    "class_names = train_ds.class_names\n",
    "class_names"
   ]
  },
  {
   "cell_type": "code",
   "execution_count": 12,
   "metadata": {},
   "outputs": [
    {
     "data": {
      "text/plain": [
       "['Center',\n",
       " 'Donut',\n",
       " 'Edge-Loc',\n",
       " 'Edge-Ring',\n",
       " 'Loc',\n",
       " 'Near-full',\n",
       " 'Random',\n",
       " 'Scratch']"
      ]
     },
     "execution_count": 12,
     "metadata": {},
     "output_type": "execute_result"
    }
   ],
   "source": [
    "val_class = val_ds.class_names\n",
    "val_class"
   ]
  },
  {
   "cell_type": "code",
   "execution_count": 13,
   "metadata": {},
   "outputs": [
    {
     "data": {
      "text/plain": [
       "['Center',\n",
       " 'Donut',\n",
       " 'Edge-Loc',\n",
       " 'Edge-Ring',\n",
       " 'Loc',\n",
       " 'Near-full',\n",
       " 'Random',\n",
       " 'Scratch']"
      ]
     },
     "execution_count": 13,
     "metadata": {},
     "output_type": "execute_result"
    }
   ],
   "source": [
    "test_class = test_ds.class_names\n",
    "test_class"
   ]
  },
  {
   "cell_type": "code",
   "execution_count": 14,
   "metadata": {
    "scrolled": false
   },
   "outputs": [
    {
     "data": {
      "image/png": "[encoded data removed]",
      "text/plain": [
       "<Figure size 1080x720 with 15 Axes>"
      ]
     },
     "metadata": {
      "needs_background": "light"
     },
     "output_type": "display_data"
    }
   ],
   "source": [
    "import matplotlib.pyplot as plt\n",
    "\n",
    "plt.figure(figsize=(15, 10))\n",
    "for images, labels in train_ds.take(1):\n",
    "    for i in range(15):\n",
    "        ax = plt.subplot(3, 5, i + 1)\n",
    "        plt.imshow(images[i].numpy().astype(\"uint8\"))\n",
    "        plt.title(class_names[labels[i]])\n",
    "        plt.axis(\"off\")"
   ]
  },
  {
   "cell_type": "code",
   "execution_count": 15,
   "metadata": {},
   "outputs": [],
   "source": [
    "AUTOTUNE = tf.data.experimental.AUTOTUNE\n",
    "\n",
    "train_ds = train_ds.cache().shuffle(1000).prefetch(buffer_size=AUTOTUNE)\n",
    "val_ds = val_ds.cache().prefetch(buffer_size=AUTOTUNE)\n",
    "test_ds = test_ds.cache().prefetch(buffer_size=AUTOTUNE)"
   ]
  },
  {
   "cell_type": "code",
   "execution_count": 16,
   "metadata": {},
   "outputs": [],
   "source": [
    "model0 = tf.keras.Sequential([\n",
    "  layers.experimental.preprocessing.Rescaling(1./255, input_shape=(img_height, img_width, 3)),\n",
    "  tf.keras.layers.Conv2D(16, 3, activation='relu'),\n",
    "  tf.keras.layers.MaxPooling2D(),\n",
    "  tf.keras.layers.Conv2D(32, 3, activation='relu'),\n",
    "  tf.keras.layers.MaxPooling2D(),\n",
    "  tf.keras.layers.Conv2D(64, 3, activation='relu'),\n",
    "  tf.keras.layers.MaxPooling2D(),\n",
    "  tf.keras.layers.Flatten(),\n",
    "  tf.keras.layers.Dense(128, activation='relu'),\n",
    "  tf.keras.layers.Dense(num_classes, activation='softmax')\n",
    "])"
   ]
  },
  {
   "cell_type": "code",
   "execution_count": 17,
   "metadata": {},
   "outputs": [],
   "source": [
    "model0.compile(\n",
    "  optimizer='adam',\n",
    "  loss=tf.losses.SparseCategoricalCrossentropy(from_logits=True),\n",
    "  metrics=['accuracy'])"
   ]
  },
  {
   "cell_type": "code",
   "execution_count": 18,
   "metadata": {
    "scrolled": false
   },
   "outputs": [
    {
     "name": "stdout",
     "output_type": "stream",
     "text": [
      "Model: \"sequential\"\n",
      "_________________________________________________________________\n",
      " Layer (type)                Output Shape              Param #   \n",
      "=================================================================\n",
      " rescaling (Rescaling)       (None, 26, 26, 3)         0         \n",
      "                                                                 \n",
      " conv2d (Conv2D)             (None, 24, 24, 16)        448       \n",
      "                                                                 \n",
      " max_pooling2d (MaxPooling2D  (None, 12, 12, 16)       0         \n",
      " )                                                               \n",
      "                                                                 \n",
      " conv2d_1 (Conv2D)           (None, 10, 10, 32)        4640      \n",
      "                                                                 \n",
      " max_pooling2d_1 (MaxPooling  (None, 5, 5, 32)         0         \n",
      " 2D)                                                             \n",
      "                                                                 \n",
      " conv2d_2 (Conv2D)           (None, 3, 3, 64)          18496     \n",
      "                                                                 \n",
      " max_pooling2d_2 (MaxPooling  (None, 1, 1, 64)         0         \n",
      " 2D)                                                             \n",
      "                                                                 \n",
      " flatten (Flatten)           (None, 64)                0         \n",
      "                                                                 \n",
      " dense (Dense)               (None, 128)               8320      \n",
      "                                                                 \n",
      " dense_1 (Dense)             (None, 8)                 1032      \n",
      "                                                                 \n",
      "=================================================================\n",
      "Total params: 32,936\n",
      "Trainable params: 32,936\n",
      "Non-trainable params: 0\n",
      "_________________________________________________________________\n"
     ]
    }
   ],
   "source": [
    "model0.summary()"
   ]
  },
  {
   "cell_type": "code",
   "execution_count": 19,
   "metadata": {
    "scrolled": false
   },
   "outputs": [
    {
     "name": "stdout",
     "output_type": "stream",
     "text": [
      "Epoch 1/20\n"
     ]
    },
    {
     "name": "stderr",
     "output_type": "stream",
     "text": [
      "C:\\Users\\user\\anaconda3\\lib\\site-packages\\tensorflow\\python\\util\\dispatch.py:1082: UserWarning: \"`sparse_categorical_crossentropy` received `from_logits=True`, but the `output` argument was produced by a sigmoid or softmax activation and thus does not represent logits. Was this intended?\"\n",
      "  return dispatch_target(*args, **kwargs)\n"
     ]
    },
    {
     "name": "stdout",
     "output_type": "stream",
     "text": [
      "640/640 [==============================] - 32s 27ms/step - loss: 0.6151 - accuracy: 0.7717 - val_loss: 0.3623 - val_accuracy: 0.8723\n",
      "Epoch 2/20\n",
      "640/640 [==============================] - 13s 21ms/step - loss: 0.3064 - accuracy: 0.8875 - val_loss: 0.2641 - val_accuracy: 0.9016\n",
      "Epoch 3/20\n",
      "640/640 [==============================] - 14s 21ms/step - loss: 0.2247 - accuracy: 0.9194 - val_loss: 0.2365 - val_accuracy: 0.9116\n",
      "Epoch 4/20\n",
      "640/640 [==============================] - 14s 22ms/step - loss: 0.1776 - accuracy: 0.9372 - val_loss: 0.2184 - val_accuracy: 0.9172\n",
      "Epoch 5/20\n",
      "640/640 [==============================] - 14s 21ms/step - loss: 0.1503 - accuracy: 0.9476 - val_loss: 0.1391 - val_accuracy: 0.9511\n",
      "Epoch 6/20\n",
      "640/640 [==============================] - 14s 22ms/step - loss: 0.1324 - accuracy: 0.9534 - val_loss: 0.1194 - val_accuracy: 0.9583\n",
      "Epoch 7/20\n",
      "640/640 [==============================] - 14s 22ms/step - loss: 0.1171 - accuracy: 0.9588 - val_loss: 0.1333 - val_accuracy: 0.9510\n",
      "Epoch 8/20\n",
      "640/640 [==============================] - 14s 22ms/step - loss: 0.1045 - accuracy: 0.9640 - val_loss: 0.1114 - val_accuracy: 0.9616\n",
      "Epoch 9/20\n",
      "640/640 [==============================] - 14s 22ms/step - loss: 0.0940 - accuracy: 0.9679 - val_loss: 0.1143 - val_accuracy: 0.9617\n",
      "Epoch 10/20\n",
      "640/640 [==============================] - 16s 25ms/step - loss: 0.0861 - accuracy: 0.9709 - val_loss: 0.1008 - val_accuracy: 0.9664\n",
      "Epoch 11/20\n",
      "640/640 [==============================] - 20s 32ms/step - loss: 0.0788 - accuracy: 0.9730 - val_loss: 0.1171 - val_accuracy: 0.9597\n",
      "Epoch 12/20\n",
      "640/640 [==============================] - 24s 38ms/step - loss: 0.0771 - accuracy: 0.9732 - val_loss: 0.0960 - val_accuracy: 0.9680\n",
      "Epoch 13/20\n",
      "640/640 [==============================] - 26s 40ms/step - loss: 0.0679 - accuracy: 0.9769 - val_loss: 0.0799 - val_accuracy: 0.9719\n",
      "Epoch 14/20\n",
      "640/640 [==============================] - 17s 26ms/step - loss: 0.0632 - accuracy: 0.9783 - val_loss: 0.0943 - val_accuracy: 0.9711\n",
      "Epoch 15/20\n",
      "640/640 [==============================] - 15s 23ms/step - loss: 0.0634 - accuracy: 0.9779 - val_loss: 0.0829 - val_accuracy: 0.9724\n",
      "Epoch 16/20\n",
      "640/640 [==============================] - 13s 21ms/step - loss: 0.0584 - accuracy: 0.9801 - val_loss: 0.0799 - val_accuracy: 0.9728\n",
      "Epoch 17/20\n",
      "640/640 [==============================] - 14s 22ms/step - loss: 0.0522 - accuracy: 0.9822 - val_loss: 0.0699 - val_accuracy: 0.9770\n",
      "Epoch 18/20\n",
      "640/640 [==============================] - 15s 23ms/step - loss: 0.0474 - accuracy: 0.9837 - val_loss: 0.0707 - val_accuracy: 0.9765\n",
      "Epoch 19/20\n",
      "640/640 [==============================] - 15s 24ms/step - loss: 0.0458 - accuracy: 0.9846 - val_loss: 0.0839 - val_accuracy: 0.9733\n",
      "Epoch 20/20\n",
      "640/640 [==============================] - 17s 27ms/step - loss: 0.0441 - accuracy: 0.9850 - val_loss: 0.0817 - val_accuracy: 0.9747\n",
      "Learning Time : 335.393(sec)  => 6:35\n"
     ]
    }
   ],
   "source": [
    "import time\n",
    "\n",
    "epoch = 20\n",
    "\n",
    "start = time.time()\n",
    "history = model0.fit(\n",
    "  train_ds,\n",
    "  validation_data=val_ds,\n",
    "  epochs=epoch\n",
    ")\n",
    "end = time.time()\n",
    "print('Learning Time : %.3f(sec)'%(end-start), ' => %.0f:%.0f'%( (end-start)/60, (end-start)%60 ))"
   ]
  },
  {
   "cell_type": "code",
   "execution_count": 20,
   "metadata": {},
   "outputs": [
    {
     "data": {
      "image/png": "[encoded data removed]",
      "text/plain": [
       "<Figure size 1440x576 with 2 Axes>"
      ]
     },
     "metadata": {
      "needs_background": "light"
     },
     "output_type": "display_data"
    }
   ],
   "source": [
    "acc = history.history['accuracy']\n",
    "val_acc = history.history['val_accuracy']\n",
    "\n",
    "loss=history.history['loss']\n",
    "val_loss=history.history['val_loss']\n",
    "\n",
    "epochs_range = range(epoch)\n",
    "\n",
    "plt.figure(figsize=(20, 8))\n",
    "plt.subplot(1, 2, 1)\n",
    "plt.plot(epochs_range, acc, label='Training Accuracy')\n",
    "plt.plot(epochs_range, val_acc, label='Validation Accuracy')\n",
    "plt.legend(loc='lower right')\n",
    "plt.title('Training and Validation Accuracy')\n",
    "\n",
    "plt.subplot(1, 2, 2)\n",
    "plt.plot(epochs_range, loss, label='Training Loss')\n",
    "plt.plot(epochs_range, val_loss, label='Validation Loss')\n",
    "plt.legend(loc='upper right')\n",
    "plt.title('Training and Validation Loss')\n",
    "plt.show()"
   ]
  },
  {
   "cell_type": "code",
   "execution_count": 24,
   "metadata": {},
   "outputs": [
    {
     "name": "stdout",
     "output_type": "stream",
     "text": [
      "<dtype: 'int32'>\n",
      "<dtype: 'int32'>\n",
      "105\n",
      "\n"
     ]
    }
   ],
   "source": [
    "x_temp, y_temp = [], []\n",
    "\n",
    "#for image_batch, labels_batch in temp_ds.take(tf.data.experimental.cardinality(temp_ds).numpy()):  # All\n",
    "for image_batch, labels_batch in temp_ds.take(2):   # batch\n",
    "    for x in range(len(image_batch)):\n",
    "        x_temp.append(image_batch[x])\n",
    "        y_temp.append(labels_batch[x])\n",
    "    #print(type(labels_batch))\n",
    "    print(labels_batch.dtype)\n",
    "\n",
    "print(len(x_temp))\n",
    "print()"
   ]
  },
  {
   "cell_type": "code",
   "execution_count": 21,
   "metadata": {},
   "outputs": [
    {
     "name": "stdout",
     "output_type": "stream",
     "text": [
      "1000\n",
      "\n",
      "[13.352715492248535, 0.12700000405311584]\n"
     ]
    }
   ],
   "source": [
    "x_train, y_train = [], []\n",
    "batch_count = 10\n",
    "image_count = 0\n",
    "\n",
    "for image_batch, labels_batch in train_ds.take(batch_count):\n",
    "    image_count += len(image_batch) \n",
    "    for x in range(len(image_batch)):\n",
    "        x_train.append(image_batch[x])\n",
    "        y_train.append(labels_batch[x])\n",
    "\n",
    "print(len(x_train))\n",
    "print()\n",
    "\n",
    "xtrain_np = np.asarray(x_train)\n",
    "ytrain_np = np.asarray(y_train)\n",
    "xtrain_np = xtrain_np.reshape(image_count, 26, 26, 3)\n",
    "xtrain_np = xtrain_np.astype(np.float32) / 255\n",
    "\n",
    "predict_trn = model0.predict(xtrain_np)\n",
    "\n",
    "res_trn = model0.evaluate(xtrain_np, ytrain_np, verbose=0)\n",
    "print(res_trn)"
   ]
  },
  {
   "cell_type": "code",
   "execution_count": 56,
   "metadata": {},
   "outputs": [
    {
     "data": {
      "text/plain": [
       "Text(0.5, 1.0, '4')"
      ]
     },
     "execution_count": 56,
     "metadata": {},
     "output_type": "execute_result"
    },
    {
     "data": {
      "image/png": "[encoded data removed]",
      "text/plain": [
       "<Figure size 432x288 with 1 Axes>"
      ]
     },
     "metadata": {
      "needs_background": "light"
     },
     "output_type": "display_data"
    }
   ],
   "source": [
    "index = 1\n",
    "plt.imshow(xtrain_np[index])\n",
    "plt.title(ytrain_np[index])"
   ]
  },
  {
   "cell_type": "code",
   "execution_count": 57,
   "metadata": {},
   "outputs": [
    {
     "name": "stdout",
     "output_type": "stream",
     "text": [
      "This image most likely belongs to none with a 72.70 percent confidence.\n",
      "1\n",
      "[[6.7210058e-03 6.2674298e-03 3.4261703e-02 6.3505229e-03 1.9719955e-01\n",
      "  9.1351118e-05 1.4385583e-02 7.7474662e-03 7.2697538e-01]]\n"
     ]
    }
   ],
   "source": [
    "xtrain_np1 = xtrain_np[index]\n",
    "xtrain_np1 = xtrain_np1.reshape(1, 26, 26, 3)\n",
    "xtrain_np1 = xtrain_np1.astype(np.float32) / 255\n",
    "\n",
    "predict_trn = model0.predict(xtrain_np1)\n",
    "print(\n",
    "    \"This image most likely belongs to {} with a {:.2f} percent confidence.\"\n",
    "    .format(class_names[np.argmax(predict_trn)], 100 * np.max(predict_trn))\n",
    ")\n",
    "print(len(predict_trn))\n",
    "print(predict_trn)"
   ]
  },
  {
   "cell_type": "code",
   "execution_count": 22,
   "metadata": {},
   "outputs": [
    {
     "name": "stdout",
     "output_type": "stream",
     "text": [
      "1000\n",
      "\n",
      "[13.388813018798828, 0.11999999731779099]\n"
     ]
    }
   ],
   "source": [
    "x_val, y_val = [], []\n",
    "batch_count = 10\n",
    "image_count = 0\n",
    "\n",
    "for image_batch, labels_batch in val_ds.take(batch_count):\n",
    "    image_count += len(image_batch) \n",
    "    for x in range(batch_size):\n",
    "        x_val.append(image_batch[x])\n",
    "        y_val.append(labels_batch[x])\n",
    "\n",
    "print(len(x_val))\n",
    "print()\n",
    "\n",
    "xval_np = np.asarray(x_val)\n",
    "yval_np = np.asarray(y_val)\n",
    "xval_np = xval_np.reshape(image_count, 26, 26, 3)\n",
    "xval_np = xval_np.astype(np.float32) / 255\n",
    "\n",
    "predict_val = model0.predict(xval_np)\n",
    "\n",
    "res_val = model0.evaluate(xval_np, yval_np, verbose=0)\n",
    "print(res_val)"
   ]
  },
  {
   "cell_type": "code",
   "execution_count": 80,
   "metadata": {
    "scrolled": true
   },
   "outputs": [
    {
     "data": {
      "text/plain": [
       "Text(0.5, 1.0, '4')"
      ]
     },
     "execution_count": 80,
     "metadata": {},
     "output_type": "execute_result"
    },
    {
     "data": {
      "image/png": "[encoded data removed]",
      "text/plain": [
       "<Figure size 432x288 with 1 Axes>"
      ]
     },
     "metadata": {
      "needs_background": "light"
     },
     "output_type": "display_data"
    }
   ],
   "source": [
    "index = 10\n",
    "plt.imshow(xval_np[index])\n",
    "plt.title(yval_np[index])"
   ]
  },
  {
   "cell_type": "code",
   "execution_count": 81,
   "metadata": {},
   "outputs": [
    {
     "name": "stdout",
     "output_type": "stream",
     "text": [
      "This image most likely belongs to none with a 72.70 percent confidence.\n",
      "1\n",
      "[[6.7209005e-03 6.2676994e-03 3.4263697e-02 6.3505438e-03 1.9721411e-01\n",
      "  9.1357790e-05 1.4388730e-02 7.7473000e-03 7.2695565e-01]]\n"
     ]
    }
   ],
   "source": [
    "xval_np1 = xval_np[index]\n",
    "xval_np1 = xval_np1.reshape(1, 26, 26, 3)\n",
    "xval_np1 = xval_np1.astype(np.float32) / 255\n",
    "\n",
    "predict_val = model0.predict(xval_np1)\n",
    "print(\n",
    "    \"This image most likely belongs to {} with a {:.2f} percent confidence.\"\n",
    "    .format(class_names[np.argmax(predict_val)], 100 * np.max(predict_val))\n",
    ")\n",
    "print(len(predict_val))\n",
    "print(predict_val)"
   ]
  },
  {
   "cell_type": "code",
   "execution_count": 46,
   "metadata": {
    "scrolled": false
   },
   "outputs": [
    {
     "name": "stdout",
     "output_type": "stream",
     "text": [
      "2000\n",
      "\n",
      "[9.553762435913086, 0.25099998712539673]\n"
     ]
    }
   ],
   "source": [
    "x_test, y_test = [], []\n",
    "batch_count = 20\n",
    "image_count = 0\n",
    "\n",
    "for image_batch, labels_batch in test_ds.take(batch_count):\n",
    "    image_count += len(image_batch)\n",
    "    for x in range(batch_size):\n",
    "        x_test.append(image_batch[x])\n",
    "        y_test.append(labels_batch[x])            \n",
    "        \n",
    "print(len(x_test))\n",
    "print()\n",
    "\n",
    "xtest_np = np.asarray(x_test)\n",
    "ytest_np = np.asarray(y_test)\n",
    "xtest_np = xtest_np.reshape(image_count, 26, 26, 3)\n",
    "xtest_np = xtest_np.astype(np.float32) / 255\n",
    "\n",
    "predict_tst = model0.predict(xtest_np)\n",
    "\n",
    "res_tst = model0.evaluate(xtest_np, ytest_np, verbose=0)\n",
    "print(res_tst)"
   ]
  },
  {
   "cell_type": "code",
   "execution_count": 44,
   "metadata": {},
   "outputs": [
    {
     "data": {
      "text/plain": [
       "Text(0.5, 1.0, '7')"
      ]
     },
     "execution_count": 44,
     "metadata": {},
     "output_type": "execute_result"
    },
    {
     "data": {
      "image/png": "[encoded data removed]",
      "text/plain": [
       "<Figure size 432x288 with 1 Axes>"
      ]
     },
     "metadata": {
      "needs_background": "light"
     },
     "output_type": "display_data"
    }
   ],
   "source": [
    "index = 3\n",
    "plt.imshow(xtest_np[index])\n",
    "plt.title(ytest_np[index])"
   ]
  },
  {
   "cell_type": "code",
   "execution_count": 45,
   "metadata": {},
   "outputs": [
    {
     "name": "stdout",
     "output_type": "stream",
     "text": [
      "This image most likely belongs to Loc with a 100.00 percent confidence.\n",
      "[[8.8482429e-06 6.6132003e-08 1.9591727e-05 5.4955211e-07 9.9996889e-01\n",
      "  9.3886507e-07 4.7531809e-12 1.1807967e-06]]\n"
     ]
    }
   ],
   "source": [
    "xtest_np1 = xtest_np[index]\n",
    "xtest_np1 = xtest_np1.reshape(1, 26, 26, 3)\n",
    "xtest_np1 = xtest_np1.astype(np.float32) / 255\n",
    "\n",
    "predict_tst = model0.predict(xtest_np1)\n",
    "print(\n",
    "    \"This image most likely belongs to {} with a {:.2f} percent confidence.\"\n",
    "    .format(class_names[np.argmax(predict_tst)], 100 * np.max(predict_tst))\n",
    ")\n",
    "print(predict_tst)"
   ]
  },
  {
   "cell_type": "code",
   "execution_count": 60,
   "metadata": {},
   "outputs": [],
   "source": [
    "#for i in range(10):\n",
    "#    print(predict_tst[i])\n",
    "#    print()"
   ]
  },
  {
   "cell_type": "code",
   "execution_count": 47,
   "metadata": {},
   "outputs": [
    {
     "name": "stdout",
     "output_type": "stream",
     "text": [
      "[[  0   0   0   0   0   0   0   0   0]\n",
      " [  0   0   0   0   0   0   0   0   0]\n",
      " [  0   0   0   0   0   0   0   0   0]\n",
      " [  0   0   0   0   0   0   0   0   0]\n",
      " [195  42 699 280 502  28  69 185   0]\n",
      " [  0   0   0   0   0   0   0   0   0]\n",
      " [  0   0   0   0   0   0   0   0   0]\n",
      " [  0   0   0   0   0   0   0   0   0]\n",
      " [  0   0   0   0   0   0   0   0   0]]\n"
     ]
    }
   ],
   "source": [
    "conf = np.zeros((9,9), dtype=np.int16)\n",
    "for i in range(len(predict_tst)):\n",
    "    conf[np.argmax(predict_tst[i])][ytest_np[i]]+=1\n",
    "print(conf)"
   ]
  },
  {
   "cell_type": "code",
   "execution_count": 24,
   "metadata": {},
   "outputs": [
    {
     "name": "stdout",
     "output_type": "stream",
     "text": [
      "data\\waferimages\\training\\Center\\101787.png\n"
     ]
    },
    {
     "data": {
      "text/plain": [
       "<matplotlib.image.AxesImage at 0x1670b56d430>"
      ]
     },
     "execution_count": 24,
     "metadata": {},
     "output_type": "execute_result"
    },
    {
     "data": {
      "image/png": "[encoded data removed]",
      "text/plain": [
       "<Figure size 432x288 with 1 Axes>"
      ]
     },
     "metadata": {
      "needs_background": "light"
     },
     "output_type": "display_data"
    }
   ],
   "source": [
    "print(center_path[0])\n",
    "img = keras.preprocessing.image.load_img(\n",
    "    center_path[0], target_size=(img_height, img_width)\n",
    ")\n",
    "plt.imshow(img)"
   ]
  },
  {
   "cell_type": "code",
   "execution_count": 25,
   "metadata": {},
   "outputs": [
    {
     "name": "stdout",
     "output_type": "stream",
     "text": [
      "This image most likely belongs to Scratch with a 56.96 percent confidence.\n"
     ]
    }
   ],
   "source": [
    "img_array = keras.preprocessing.image.img_to_array(img)\n",
    "img_array = tf.expand_dims(img_array, 0) # Create a batch\n",
    "\n",
    "predictions = model0.predict(img_array)\n",
    "\n",
    "print(\n",
    "    \"This image most likely belongs to {} with a {:.2f} percent confidence.\"\n",
    "    .format(class_names[np.argmax(predictions)], 100 * np.max(predictions))\n",
    ")"
   ]
  },
  {
   "cell_type": "code",
   "execution_count": 26,
   "metadata": {},
   "outputs": [
    {
     "name": "stdout",
     "output_type": "stream",
     "text": [
      "data\\waferimages\\training\\Edge-Loc\\1025.png\n"
     ]
    },
    {
     "data": {
      "text/plain": [
       "<matplotlib.image.AxesImage at 0x1670b52c550>"
      ]
     },
     "execution_count": 26,
     "metadata": {},
     "output_type": "execute_result"
    },
    {
     "data": {
      "image/png": "[encoded data removed]",
      "text/plain": [
       "<Figure size 432x288 with 1 Axes>"
      ]
     },
     "metadata": {
      "needs_background": "light"
     },
     "output_type": "display_data"
    }
   ],
   "source": [
    "print(edgeLoc_path[0])\n",
    "img = keras.preprocessing.image.load_img(\n",
    "    edgeLoc_path[0], target_size=(img_height, img_width)\n",
    ")\n",
    "plt.imshow(img)"
   ]
  },
  {
   "cell_type": "code",
   "execution_count": 27,
   "metadata": {},
   "outputs": [
    {
     "name": "stdout",
     "output_type": "stream",
     "text": [
      "This image most likely belongs to Scratch with a 99.99 percent confidence.\n"
     ]
    }
   ],
   "source": [
    "img_array = keras.preprocessing.image.img_to_array(img)\n",
    "img_array = tf.expand_dims(img_array, 0) # Create a batch\n",
    "\n",
    "predictions = model0.predict(img_array)\n",
    "\n",
    "print(\n",
    "    \"This image most likely belongs to {} with a {:.2f} percent confidence.\"\n",
    "    .format(class_names[np.argmax(predictions)], 100 * np.max(predictions))\n",
    ")"
   ]
  },
  {
   "cell_type": "code",
   "execution_count": 28,
   "metadata": {},
   "outputs": [
    {
     "name": "stdout",
     "output_type": "stream",
     "text": [
      "data\\waferimages\\training\\Edge-Ring\\100.png\n"
     ]
    },
    {
     "data": {
      "text/plain": [
       "<matplotlib.image.AxesImage at 0x1670b596ee0>"
      ]
     },
     "execution_count": 28,
     "metadata": {},
     "output_type": "execute_result"
    },
    {
     "data": {
      "image/png": "[encoded data removed]",
      "text/plain": [
       "<Figure size 432x288 with 1 Axes>"
      ]
     },
     "metadata": {
      "needs_background": "light"
     },
     "output_type": "display_data"
    }
   ],
   "source": [
    "print(edgeRing_path[0])\n",
    "img = keras.preprocessing.image.load_img(\n",
    "    edgeRing_path[0], target_size=(img_height, img_width)\n",
    ")\n",
    "plt.imshow(img)"
   ]
  },
  {
   "cell_type": "code",
   "execution_count": 29,
   "metadata": {},
   "outputs": [
    {
     "name": "stdout",
     "output_type": "stream",
     "text": [
      "This image most likely belongs to Edge-Ring with a 98.21 percent confidence.\n"
     ]
    }
   ],
   "source": [
    "img_array = keras.preprocessing.image.img_to_array(img)\n",
    "img_array = tf.expand_dims(img_array, 0) # Create a batch\n",
    "\n",
    "predictions = model0.predict(img_array)\n",
    "\n",
    "print(\n",
    "    \"This image most likely belongs to {} with a {:.2f} percent confidence.\"\n",
    "    .format(class_names[np.argmax(predictions)], 100 * np.max(predictions))\n",
    ")"
   ]
  },
  {
   "cell_type": "code",
   "execution_count": 30,
   "metadata": {},
   "outputs": [
    {
     "name": "stdout",
     "output_type": "stream",
     "text": [
      "data\\waferimages\\training\\Loc\\100346.png\n"
     ]
    },
    {
     "data": {
      "text/plain": [
       "<matplotlib.image.AxesImage at 0x1670b5f2970>"
      ]
     },
     "execution_count": 30,
     "metadata": {},
     "output_type": "execute_result"
    },
    {
     "data": {
      "image/png": "[encoded data removed]",
      "text/plain": [
       "<Figure size 432x288 with 1 Axes>"
      ]
     },
     "metadata": {
      "needs_background": "light"
     },
     "output_type": "display_data"
    }
   ],
   "source": [
    "print(loc_path[0])\n",
    "img = keras.preprocessing.image.load_img(\n",
    "    loc_path[0], target_size=(img_height, img_width)\n",
    ")\n",
    "plt.imshow(img)"
   ]
  },
  {
   "cell_type": "code",
   "execution_count": 31,
   "metadata": {},
   "outputs": [
    {
     "name": "stdout",
     "output_type": "stream",
     "text": [
      "This image most likely belongs to Center with a 80.60 percent confidence.\n"
     ]
    }
   ],
   "source": [
    "img_array = keras.preprocessing.image.img_to_array(img)\n",
    "img_array = tf.expand_dims(img_array, 0) # Create a batch\n",
    "\n",
    "predictions = model0.predict(img_array)\n",
    "\n",
    "print(\n",
    "    \"This image most likely belongs to {} with a {:.2f} percent confidence.\"\n",
    "    .format(class_names[np.argmax(predictions)], 100 * np.max(predictions))\n",
    ")"
   ]
  },
  {
   "cell_type": "code",
   "execution_count": 32,
   "metadata": {},
   "outputs": [
    {
     "name": "stdout",
     "output_type": "stream",
     "text": [
      "data\\waferimages\\training\\Near-full\\2219.png\n"
     ]
    },
    {
     "data": {
      "text/plain": [
       "<matplotlib.image.AxesImage at 0x1670b650550>"
      ]
     },
     "execution_count": 32,
     "metadata": {},
     "output_type": "execute_result"
    },
    {
     "data": {
      "image/png": "[encoded data removed]",
      "text/plain": [
       "<Figure size 432x288 with 1 Axes>"
      ]
     },
     "metadata": {
      "needs_background": "light"
     },
     "output_type": "display_data"
    }
   ],
   "source": [
    "print(nearFull_path[0])\n",
    "img = keras.preprocessing.image.load_img(\n",
    "    nearFull_path[0], target_size=(img_height, img_width)\n",
    ")\n",
    "plt.imshow(img)"
   ]
  },
  {
   "cell_type": "code",
   "execution_count": 33,
   "metadata": {},
   "outputs": [
    {
     "name": "stdout",
     "output_type": "stream",
     "text": [
      "This image most likely belongs to Random with a 99.99 percent confidence.\n"
     ]
    }
   ],
   "source": [
    "img_array = keras.preprocessing.image.img_to_array(img)\n",
    "img_array = tf.expand_dims(img_array, 0) # Create a batch\n",
    "\n",
    "predictions = model0.predict(img_array)\n",
    "\n",
    "print(\n",
    "    \"This image most likely belongs to {} with a {:.2f} percent confidence.\"\n",
    "    .format(class_names[np.argmax(predictions)], 100 * np.max(predictions))\n",
    ")"
   ]
  },
  {
   "cell_type": "code",
   "execution_count": 35,
   "metadata": {},
   "outputs": [],
   "source": [
    "#print(none_path[0])\n",
    "#img = keras.preprocessing.image.load_img(\n",
    "#    none_path[0], target_size=(img_height, img_width)\n",
    "#)\n",
    "#plt.imshow(img)"
   ]
  },
  {
   "cell_type": "code",
   "execution_count": 116,
   "metadata": {},
   "outputs": [
    {
     "name": "stdout",
     "output_type": "stream",
     "text": [
      "This image most likely belongs to none with a 99.49 percent confidence.\n"
     ]
    }
   ],
   "source": [
    "img_array = keras.preprocessing.image.img_to_array(img)\n",
    "img_array = tf.expand_dims(img_array, 0) # Create a batch\n",
    "\n",
    "predictions = model0.predict(img_array)\n",
    "\n",
    "print(\n",
    "    \"This image most likely belongs to {} with a {:.2f} percent confidence.\"\n",
    "    .format(class_names[np.argmax(predictions)], 100 * np.max(predictions))\n",
    ")"
   ]
  },
  {
   "cell_type": "code",
   "execution_count": 36,
   "metadata": {},
   "outputs": [
    {
     "name": "stdout",
     "output_type": "stream",
     "text": [
      "data\\waferimages\\training\\Random\\108432.png\n"
     ]
    },
    {
     "data": {
      "text/plain": [
       "<matplotlib.image.AxesImage at 0x1670b6b60d0>"
      ]
     },
     "execution_count": 36,
     "metadata": {},
     "output_type": "execute_result"
    },
    {
     "data": {
      "image/png": "[encoded data removed]",
      "text/plain": [
       "<Figure size 432x288 with 1 Axes>"
      ]
     },
     "metadata": {
      "needs_background": "light"
     },
     "output_type": "display_data"
    }
   ],
   "source": [
    "print(random_path[0])\n",
    "img = keras.preprocessing.image.load_img(\n",
    "    random_path[0], target_size=(img_height, img_width)\n",
    ")\n",
    "plt.imshow(img)"
   ]
  },
  {
   "cell_type": "code",
   "execution_count": 37,
   "metadata": {},
   "outputs": [
    {
     "name": "stdout",
     "output_type": "stream",
     "text": [
      "This image most likely belongs to Random with a 100.00 percent confidence.\n"
     ]
    }
   ],
   "source": [
    "img_array = keras.preprocessing.image.img_to_array(img)\n",
    "img_array = tf.expand_dims(img_array, 0) # Create a batch\n",
    "\n",
    "predictions = model0.predict(img_array)\n",
    "\n",
    "print(\n",
    "    \"This image most likely belongs to {} with a {:.2f} percent confidence.\"\n",
    "    .format(class_names[np.argmax(predictions)], 100 * np.max(predictions))\n",
    ")"
   ]
  },
  {
   "cell_type": "code",
   "execution_count": 38,
   "metadata": {},
   "outputs": [
    {
     "name": "stdout",
     "output_type": "stream",
     "text": [
      "data\\waferimages\\training\\Scratch\\101929.png\n"
     ]
    },
    {
     "data": {
      "text/plain": [
       "<matplotlib.image.AxesImage at 0x1670b704b80>"
      ]
     },
     "execution_count": 38,
     "metadata": {},
     "output_type": "execute_result"
    },
    {
     "data": {
      "image/png": "[encoded data removed]",
      "text/plain": [
       "<Figure size 432x288 with 1 Axes>"
      ]
     },
     "metadata": {
      "needs_background": "light"
     },
     "output_type": "display_data"
    }
   ],
   "source": [
    "print(scratch_path[0])\n",
    "img = keras.preprocessing.image.load_img(\n",
    "    scratch_path[0], target_size=(img_height, img_width)\n",
    ")\n",
    "plt.imshow(img)"
   ]
  },
  {
   "cell_type": "code",
   "execution_count": 39,
   "metadata": {},
   "outputs": [
    {
     "name": "stdout",
     "output_type": "stream",
     "text": [
      "This image most likely belongs to Scratch with a 100.00 percent confidence.\n"
     ]
    }
   ],
   "source": [
    "img_array = keras.preprocessing.image.img_to_array(img)\n",
    "img_array = tf.expand_dims(img_array, 0) # Create a batch\n",
    "\n",
    "predictions = model0.predict(img_array)\n",
    "\n",
    "print(\n",
    "    \"This image most likely belongs to {} with a {:.2f} percent confidence.\"\n",
    "    .format(class_names[np.argmax(predictions)], 100 * np.max(predictions))\n",
    ")"
   ]
  },
  {
   "cell_type": "code",
   "execution_count": 53,
   "metadata": {},
   "outputs": [],
   "source": [
    "def create_model( opt ):\n",
    "    global train_ds, val_ds\n",
    "    \n",
    "    accuracy = 0\n",
    "    \n",
    "    AUTOTUNE = tf.data.experimental.AUTOTUNE\n",
    "\n",
    "    train_ds = train_ds.cache().shuffle(1000).prefetch(buffer_size=AUTOTUNE)\n",
    "    val_ds = val_ds.cache().prefetch(buffer_size=AUTOTUNE)\n",
    "\n",
    "    num_classes = 9\n",
    "\n",
    "    model1 = tf.keras.Sequential([\n",
    "      layers.experimental.preprocessing.Rescaling(1./255, input_shape=(img_height, img_width, 3)),\n",
    "      tf.keras.layers.Conv2D(16, 3, activation='relu'),\n",
    "      tf.keras.layers.MaxPooling2D(),\n",
    "      tf.keras.layers.Conv2D(32, 3, activation='relu'),\n",
    "      tf.keras.layers.MaxPooling2D(),\n",
    "      tf.keras.layers.Conv2D(64, 3, activation='relu'),\n",
    "      tf.keras.layers.MaxPooling2D(),\n",
    "      tf.keras.layers.Dropout(0.2),\n",
    "      tf.keras.layers.Flatten(),\n",
    "      tf.keras.layers.Dense(128, activation='relu'),\n",
    "      tf.keras.layers.Dense(num_classes, activation='softmax')\n",
    "    ])\n",
    "\n",
    "    model1.compile(\n",
    "      optimizer=opt,\n",
    "      loss=tf.losses.SparseCategoricalCrossentropy(from_logits=True),\n",
    "      metrics=['accuracy'])\n",
    "    \n",
    "    history = model1.fit(\n",
    "      train_ds,\n",
    "      validation_data=val_ds,\n",
    "      epochs=epoch\n",
    "    )"
   ]
  },
  {
   "cell_type": "code",
   "execution_count": 57,
   "metadata": {
    "scrolled": false
   },
   "outputs": [],
   "source": [
    "#acc_Adam = create_model(keras.optimizers.Adam())\n",
    "#acc_SGD = create_model(keras.optimizers.SGD())\n",
    "#acc_Adagrad = create_model(keras.optimizers.Adagrad())\n",
    "#acc_RMSprop = create_model(keras.optimizers.RMSprop())\n",
    "\n",
    "#print(\"Adam :\", np.array(acc_Adam).mean())\n",
    "#print(\"SGD :\", np.array(acc_SGD).mean())\n",
    "#print(\"Adagrad :\", np.array(acc_Adagrad).mean())\n",
    "#print(\"RMSprop :\", np.array(acc_RMSprop).mean())"
   ]
  }
 ],
 "metadata": {
  "kernelspec": {
   "display_name": "Python 3",
   "language": "python",
   "name": "python3"
  },
  "language_info": {
   "codemirror_mode": {
    "name": "ipython",
    "version": 3
   },
   "file_extension": ".py",
   "mimetype": "text/x-python",
   "name": "python",
   "nbconvert_exporter": "python",
   "pygments_lexer": "ipython3",
   "version": "3.8.5"
  }
 },
 "nbformat": 4,
 "nbformat_minor": 4
}
